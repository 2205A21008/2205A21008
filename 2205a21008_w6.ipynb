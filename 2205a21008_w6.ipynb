{
  "nbformat": 4,
  "nbformat_minor": 0,
  "metadata": {
    "colab": {
      "provenance": [],
      "authorship_tag": "ABX9TyO8JQTgSFTo5UrKWzHj+UvV",
      "include_colab_link": true
    },
    "kernelspec": {
      "name": "python3",
      "display_name": "Python 3"
    },
    "language_info": {
      "name": "python"
    }
  },
  "cells": [
    {
      "cell_type": "markdown",
      "metadata": {
        "id": "view-in-github",
        "colab_type": "text"
      },
      "source": [
        "<a href=\"https://colab.research.google.com/github/2205A21008/2205A21008/blob/main/2205a21008_w6.ipynb\" target=\"_parent\"><img src=\"https://colab.research.google.com/assets/colab-badge.svg\" alt=\"Open In Colab\"/></a>"
      ]
    },
    {
      "cell_type": "code",
      "execution_count": 1,
      "metadata": {
        "colab": {
          "base_uri": "https://localhost:8080/"
        },
        "id": "RriZYftHidbX",
        "outputId": "fad59558-e006-4007-e30b-0f8a17166460"
      },
      "outputs": [
        {
          "output_type": "stream",
          "name": "stdout",
          "text": [
            "enter no of rows:6\n",
            "*\n",
            "\n",
            "**\n",
            "\n",
            "***\n",
            "\n",
            "****\n",
            "\n",
            "*****\n",
            "\n",
            "******\n",
            "\n"
          ]
        }
      ],
      "source": [
        "rows = int(input(\"enter no of rows:\"))\n",
        "for i in range(rows):\n",
        "    for j in range(i+1):\n",
        "        print(\"*\",end=\"\")\n",
        "    print(\"\\n\")"
      ]
    },
    {
      "cell_type": "code",
      "source": [
        "rows = int(input(\"Enter number of rows: \"))\n",
        "for i in range(rows):\n",
        "    for j in range(rows-i - 1):\n",
        "        print(\" \", end=\"\")\n",
        "    for j in range(i + 1):\n",
        "        print(\"*\", end=\"\")\n",
        "    print()"
      ],
      "metadata": {
        "colab": {
          "base_uri": "https://localhost:8080/"
        },
        "id": "pVUvuCryisDe",
        "outputId": "88df0dc9-10bf-4507-96d9-077e297aebe9"
      },
      "execution_count": 2,
      "outputs": [
        {
          "output_type": "stream",
          "name": "stdout",
          "text": [
            "Enter number of rows: 5\n",
            "    *\n",
            "   **\n",
            "  ***\n",
            " ****\n",
            "*****\n"
          ]
        }
      ]
    },
    {
      "cell_type": "code",
      "source": [
        "rows = int(input(\"Enter number of rows: \"))\n",
        "for i in range(rows):\n",
        "    for j in range(rows-i ):\n",
        "        print(\"+\", end=\"\")\n",
        "    for j in range(i + 1):\n",
        "        print(\" \", end=\"\")\n",
        "    print()"
      ],
      "metadata": {
        "colab": {
          "base_uri": "https://localhost:8080/"
        },
        "id": "dGOx0b3wi1mz",
        "outputId": "30c9ac11-625f-4b10-ffef-a2ee6cb81a9c"
      },
      "execution_count": 3,
      "outputs": [
        {
          "output_type": "stream",
          "name": "stdout",
          "text": [
            "Enter number of rows: 6\n",
            "++++++ \n",
            "+++++  \n",
            "++++   \n",
            "+++    \n",
            "++     \n",
            "+      \n"
          ]
        }
      ]
    },
    {
      "cell_type": "code",
      "source": [
        "rows = int(input(\"Enter number of rows: \"))\n",
        "\n",
        "for i in range(rows):\n",
        "    for j in range(i):\n",
        "        print(\" \", end=\"\")\n",
        "    for j in range(rows - i):\n",
        "        print(\"+\", end=\"\")\n",
        "    print()\n"
      ],
      "metadata": {
        "colab": {
          "base_uri": "https://localhost:8080/"
        },
        "id": "hKA78MFvi-m8",
        "outputId": "db741332-7b48-4812-f743-5ef9a2b28a7e"
      },
      "execution_count": 4,
      "outputs": [
        {
          "output_type": "stream",
          "name": "stdout",
          "text": [
            "Enter number of rows: 6\n",
            "++++++\n",
            " +++++\n",
            "  ++++\n",
            "   +++\n",
            "    ++\n",
            "     +\n"
          ]
        }
      ]
    },
    {
      "cell_type": "code",
      "source": [
        "rows = int(input(\"Enter number of rows: \"))\n",
        "i = 0\n",
        "while i < rows:\n",
        "    j = 0\n",
        "    while j <= i:\n",
        "        print(\"*\", end=\"\")\n",
        "        j += 1\n",
        "    print(\"\\n\", end=\"\")\n",
        "    i += 1"
      ],
      "metadata": {
        "colab": {
          "base_uri": "https://localhost:8080/"
        },
        "id": "U9Xeyte1jKJu",
        "outputId": "8328b27b-47da-4fa5-c49c-f7bff1915cbb"
      },
      "execution_count": 5,
      "outputs": [
        {
          "output_type": "stream",
          "name": "stdout",
          "text": [
            "Enter number of rows: 6\n",
            "*\n",
            "**\n",
            "***\n",
            "****\n",
            "*****\n",
            "******\n"
          ]
        }
      ]
    },
    {
      "cell_type": "code",
      "source": [
        "rows = int(input(\"Enter number of rows: \"))\n",
        "i = 0\n",
        "while i < rows:\n",
        "    j = 0\n",
        "    while j < (rows - i - 1):\n",
        "        print(\" \", end=\"\")\n",
        "        j += 1\n",
        "    j = 0\n",
        "    while j <= i:\n",
        "        print(\"*\", end=\"\")\n",
        "        j += 1\n",
        "    print()\n",
        "    i += 1"
      ],
      "metadata": {
        "colab": {
          "base_uri": "https://localhost:8080/"
        },
        "id": "I9f9xL44jZKp",
        "outputId": "fed5060b-9f5a-453c-b826-53717ae8d0a2"
      },
      "execution_count": 6,
      "outputs": [
        {
          "output_type": "stream",
          "name": "stdout",
          "text": [
            "Enter number of rows: 5\n",
            "    *\n",
            "   **\n",
            "  ***\n",
            " ****\n",
            "*****\n"
          ]
        }
      ]
    },
    {
      "cell_type": "code",
      "source": [
        "rows = int(input(\"Enter number of rows: \"))\n",
        "i = 0\n",
        "while i < rows:\n",
        "    j = 0\n",
        "    while j < rows-i:\n",
        "        print(\"+\", end=\"\")\n",
        "        j += 1\n",
        "    j = 0\n",
        "    while j <=i:\n",
        "        print(\" \", end=\"\")\n",
        "        j += 1\n",
        "    print()\n",
        "    i += 1"
      ],
      "metadata": {
        "colab": {
          "base_uri": "https://localhost:8080/"
        },
        "id": "-8eGW_gijjCf",
        "outputId": "3d64b43b-2f76-4d68-d3cf-f110d50ba20a"
      },
      "execution_count": 7,
      "outputs": [
        {
          "output_type": "stream",
          "name": "stdout",
          "text": [
            "Enter number of rows: 6\n",
            "++++++ \n",
            "+++++  \n",
            "++++   \n",
            "+++    \n",
            "++     \n",
            "+      \n"
          ]
        }
      ]
    },
    {
      "cell_type": "code",
      "source": [
        "rows = int(input(\"Enter number of rows: \"))\n",
        "i = 0\n",
        "while i < rows:\n",
        "    j = 0\n",
        "    while j <= i:\n",
        "        print(\" \", end=\"\")\n",
        "        j += 1\n",
        "    j = 0\n",
        "    while j < rows-i:\n",
        "        print(\"+\", end=\"\")\n",
        "        j += 1\n",
        "    print()\n",
        "    i += 1"
      ],
      "metadata": {
        "colab": {
          "base_uri": "https://localhost:8080/"
        },
        "id": "KqG3I_1XkLlY",
        "outputId": "97f46abb-65c7-4ef2-ba1f-d9dda1d83a95"
      },
      "execution_count": 9,
      "outputs": [
        {
          "output_type": "stream",
          "name": "stdout",
          "text": [
            "Enter number of rows: 6\n",
            " ++++++\n",
            "  +++++\n",
            "   ++++\n",
            "    +++\n",
            "     ++\n",
            "      +\n"
          ]
        }
      ]
    }
  ]
}