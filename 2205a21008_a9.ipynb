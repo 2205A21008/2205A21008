{
  "nbformat": 4,
  "nbformat_minor": 0,
  "metadata": {
    "colab": {
      "provenance": [],
      "authorship_tag": "ABX9TyP/YLbreAy/tr7ESPU2SCXG",
      "include_colab_link": true
    },
    "kernelspec": {
      "name": "python3",
      "display_name": "Python 3"
    },
    "language_info": {
      "name": "python"
    }
  },
  "cells": [
    {
      "cell_type": "markdown",
      "metadata": {
        "id": "view-in-github",
        "colab_type": "text"
      },
      "source": [
        "<a href=\"https://colab.research.google.com/github/2205A21008/2205A21008/blob/main/2205a21008_a9.ipynb\" target=\"_parent\"><img src=\"https://colab.research.google.com/assets/colab-badge.svg\" alt=\"Open In Colab\"/></a>"
      ]
    },
    {
      "cell_type": "code",
      "execution_count": 1,
      "metadata": {
        "colab": {
          "base_uri": "https://localhost:8080/"
        },
        "id": "kIgEFaJ6lkVp",
        "outputId": "2e0f33d6-0bbc-44c6-8b28-8a24bf078433"
      },
      "outputs": [
        {
          "name": "stdout",
          "output_type": "stream",
          "text": [
            "enter hall ticket no.101\n"
          ]
        }
      ],
      "source": [
        "import numpy as np\n",
        "\n",
        "marks=np.array([[101,35,98,43,65,78,96], [102,87,45,98,65,34,78], [103,45,26,78,45,67,34], [104,45,56,67,78,89,90], [105,23,34,45,56,76,87]])\n",
        "students=marks.shape[0]\n",
        "Hall_Ticket_No=int(input(\"enter hall ticket no.\"))\n",
        "for i in range (students):\n",
        " if(Hall_Ticket_No==marks[i,0]):\n",
        "  break\n",
        "index=i\n",
        "marks_percentage=np.sum(marks [index, 1: marks.shape[1]])*100/600\n",
        "count=0\n",
        "failed_sub=[]\n",
        "for i in range(1, marks.shape[1]):\n",
        " if(marks [index, i]<35):\n",
        "  count=count+1\n",
        "failed_sub.append(i)"
      ]
    },
    {
      "cell_type": "code",
      "source": [
        "print(\" ======================================\")\n",
        "print(\"           KINDERLAND SCHOOL           \")\n",
        "print(\"            score card                 \")\n",
        "print(\"========================================\")\n",
        "print(\"Roll No:\", Hall_Ticket_No)\n",
        "print(\"Telugu:\", marks [index, 1])\n",
        "print(\"English:\", marks [index, 2])\n",
        "print(\"Hindi:\", marks [index, 3])\n",
        "print(\"Maths:\", marks [index, 4])\n",
        "print(\"Science:\", marks [index, 5])\n",
        "print(\"social:\", marks [index, 6])\n",
        "\n",
        "\n"
      ],
      "metadata": {
        "colab": {
          "base_uri": "https://localhost:8080/"
        },
        "id": "R0IL3H2a7gHH",
        "outputId": "5531f562-26c8-4e25-f15d-20f0aff9e1c3"
      },
      "execution_count": 3,
      "outputs": [
        {
          "output_type": "stream",
          "name": "stdout",
          "text": [
            " ======================================\n",
            "           KINDERLAND SCHOOL           \n",
            "            score card                 \n",
            "========================================\n",
            "Roll No: 101\n",
            "Telugu: 35\n",
            "English: 98\n",
            "Hindi: 43\n",
            "Maths: 65\n",
            "Science: 78\n",
            "social: 96\n"
          ]
        }
      ]
    },
    {
      "cell_type": "code",
      "source": [
        "print(\"===================================\")\n",
        "print(\"         Results Status            \")\n",
        "print(\"===================================\")\n",
        "if(count>0):\n",
        "  print(\"Fail\")\n",
        "  print(\"Failed Subjects:\",)\n",
        "  for i in range(len(failed_sub)):\n",
        "     if(failed_sub[i]==1):\n",
        "      print(\"Telugu\")\n",
        "     if(failed_sub[i]==2):\n",
        "      print(\"English\")\n",
        "     if(failed_sub[i]==3):\n",
        "      print(\"Hindi\")\n",
        "     if(failed_sub[i]==4):\n",
        "      print(\"Maths\")\n",
        "     if(failed_sub[i]==5):\n",
        "      print(\"Science\")\n",
        "     if(failed_sub[i]==6):\n",
        "      print(\"Social\")\n",
        "else:\n",
        "        print(\"Pass\")\n",
        "        print(\"Percentage of marks:\", np.round(marks_percentage))\n",
        "        print(\"================================================\")"
      ],
      "metadata": {
        "colab": {
          "base_uri": "https://localhost:8080/"
        },
        "id": "-4XsxJlD9R5R",
        "outputId": "c4919640-6149-4cc4-fbfa-be2363ac2235"
      },
      "execution_count": 8,
      "outputs": [
        {
          "output_type": "stream",
          "name": "stdout",
          "text": [
            "===================================\n",
            "         Results Status            \n",
            "===================================\n",
            "Pass\n",
            "Percentage of marks: 69.0\n",
            "================================================\n"
          ]
        }
      ]
    }
  ]
}