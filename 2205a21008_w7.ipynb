{
  "nbformat": 4,
  "nbformat_minor": 0,
  "metadata": {
    "colab": {
      "provenance": [],
      "authorship_tag": "ABX9TyP6sU8FX5PQTUbh3mZogTJM",
      "include_colab_link": true
    },
    "kernelspec": {
      "name": "python3",
      "display_name": "Python 3"
    },
    "language_info": {
      "name": "python"
    }
  },
  "cells": [
    {
      "cell_type": "markdown",
      "metadata": {
        "id": "view-in-github",
        "colab_type": "text"
      },
      "source": [
        "<a href=\"https://colab.research.google.com/github/2205A21008/2205A21008/blob/main/2205a21008_w7.ipynb\" target=\"_parent\"><img src=\"https://colab.research.google.com/assets/colab-badge.svg\" alt=\"Open In Colab\"/></a>"
      ]
    },
    {
      "cell_type": "code",
      "execution_count": 4,
      "metadata": {
        "id": "Wg4E1CPSbHT9",
        "colab": {
          "base_uri": "https://localhost:8080/"
        },
        "outputId": "bc497b95-9336-411d-c5ba-385a8ef44afb"
      },
      "outputs": [
        {
          "output_type": "stream",
          "name": "stdout",
          "text": [
            "enter receving end voltage220000\n",
            "enter resistance per phase per km0.15\n",
            "enter inductance per phese per km0.0013263\n",
            "enter length of tline40\n",
            "enter power factor0.8\n",
            "enter apparent power381000000\n",
            "voltage reg= 11.908716696181807\n"
          ]
        }
      ],
      "source": [
        "import math as mt\n",
        "vr=float(input(\"enter receving end voltage\"))\n",
        "r=float(input(\"enter resistance per phase per km\"))\n",
        "l=float(input(\"enter inductance per phese per km\"))\n",
        "length=float(input(\"enter length of tline\"))\n",
        "pf=float(input(\"enter power factor\"))\n",
        "load=float(input(\"enter apparent power\"))\n",
        "vr_phase=vr/mt.sqrt(3)\n",
        "R=r*length\n",
        "L=l*length\n",
        "X=2*3.14*50*L\n",
        "z=complex(R,X)\n",
        "P=load*pf\n",
        "Q=load*mt.sqrt(1-pf**2)\n",
        "S=complex(P,Q)\n",
        "IR=(S.conjugate())/(3*vr_phase)\n",
        "VS=vr_phase+z*IR\n",
        "voltage_regulation=(abs(VS)-vr_phase)*100/vr_phase\n",
        "print(\"voltage reg=\",voltage_regulation)"
      ]
    }
  ]
}